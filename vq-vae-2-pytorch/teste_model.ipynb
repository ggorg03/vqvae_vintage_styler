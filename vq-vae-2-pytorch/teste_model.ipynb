{
 "cells": [
  {
   "cell_type": "code",
   "execution_count": 29,
   "metadata": {},
   "outputs": [],
   "source": [
    "import os\n",
    "import torch\n",
    "from torch.utils.data import DataLoader\n",
    "from torchvision.utils import save_image\n",
    "from torchvision import transforms, datasets\n",
    "import distributed as dist\n",
    "\n",
    "from vqvae import VQVAE"
   ]
  },
  {
   "cell_type": "code",
   "execution_count": 30,
   "metadata": {},
   "outputs": [],
   "source": [
    "device = 'cpu'\n",
    "size = 360\n",
    "checkpoint = 'vqvae_003.pt'\n",
    "ckpt = torch.load(os.path.join('checkpoint', checkpoint))"
   ]
  },
  {
   "cell_type": "code",
   "execution_count": 31,
   "metadata": {},
   "outputs": [],
   "source": [
    "vqvae = VQVAE()\n",
    "vqvae.load_state_dict(ckpt)\n",
    "vqvae = vqvae.to(device)\n",
    "vqvae.eval();"
   ]
  },
  {
   "cell_type": "code",
   "execution_count": 32,
   "metadata": {},
   "outputs": [],
   "source": [
    "transform = transforms.Compose(\n",
    "    [\n",
    "        transforms.Resize(size),\n",
    "        transforms.CenterCrop(size),\n",
    "        transforms.ToTensor(),\n",
    "        transforms.Normalize([0.5, 0.5, 0.5], [0.5, 0.5, 0.5]),\n",
    "    ]\n",
    ")\n",
    "\n",
    "dataset = datasets.ImageFolder('images', transform=transform)\n",
    "sampler = dist.data_sampler(dataset, shuffle=False, distributed=False)\n",
    "loader = DataLoader(dataset, batch_size=5, sampler=sampler, num_workers=1)"
   ]
  },
  {
   "cell_type": "code",
   "execution_count": 33,
   "metadata": {},
   "outputs": [
    {
     "name": "stderr",
     "output_type": "stream",
     "text": [
      "/home/gustavo/anaconda3/envs/hifi-gan/lib/python3.6/site-packages/torchvision/utils.py:50: UserWarning: range will be deprecated, please use value_range instead.\n",
      "  warnings.warn(warning)\n"
     ]
    }
   ],
   "source": [
    "for i, (inputs, label) in enumerate(loader):\n",
    "    with torch.no_grad():\n",
    "        quant_t, quant_b, _, _, _ = vqvae.encode(inputs)\n",
    "        outputs = vqvae.decode(quant_t, quant_b)\n",
    "        outputs = outputs.clamp(-1,1)\n",
    "        save_image(torch.cat((inputs, outputs), dim=0), f'outputs/batch_{i}.jpg', normalize=True, range=(-1,1), nrow=inputs.shape[0])"
   ]
  },
  {
   "cell_type": "code",
   "execution_count": 34,
   "metadata": {},
   "outputs": [
    {
     "data": {
      "text/plain": [
       "torch.Size([5, 3, 360, 360])"
      ]
     },
     "execution_count": 34,
     "metadata": {},
     "output_type": "execute_result"
    }
   ],
   "source": [
    "inputs.shape"
   ]
  },
  {
   "cell_type": "code",
   "execution_count": 35,
   "metadata": {},
   "outputs": [
    {
     "data": {
      "text/plain": [
       "torch.Size([5, 3, 360, 360])"
      ]
     },
     "execution_count": 35,
     "metadata": {},
     "output_type": "execute_result"
    }
   ],
   "source": [
    "outputs.shape"
   ]
  }
 ],
 "metadata": {
  "kernelspec": {
   "display_name": "hifi-gan",
   "language": "python",
   "name": "python3"
  },
  "language_info": {
   "codemirror_mode": {
    "name": "ipython",
    "version": 3
   },
   "file_extension": ".py",
   "mimetype": "text/x-python",
   "name": "python",
   "nbconvert_exporter": "python",
   "pygments_lexer": "ipython3",
   "version": "3.6.13"
  }
 },
 "nbformat": 4,
 "nbformat_minor": 2
}
