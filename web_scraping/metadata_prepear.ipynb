{
 "cells": [
  {
   "cell_type": "code",
   "execution_count": 22,
   "metadata": {},
   "outputs": [],
   "source": [
    "import pandas as pd\n",
    "import os"
   ]
  },
  {
   "cell_type": "code",
   "execution_count": 23,
   "metadata": {},
   "outputs": [],
   "source": [
    "import re\n",
    "\n",
    "def extract_years(s):\n",
    "    substrings = re.findall(r'\\d{4}', s)\n",
    "    ys = [int(y) for y in substrings]\n",
    "    max_year = max(ys) if ys else 0\n",
    "    return max_year"
   ]
  },
  {
   "cell_type": "code",
   "execution_count": 24,
   "metadata": {},
   "outputs": [
    {
     "data": {
      "text/html": [
       "<div>\n",
       "<style scoped>\n",
       "    .dataframe tbody tr th:only-of-type {\n",
       "        vertical-align: middle;\n",
       "    }\n",
       "\n",
       "    .dataframe tbody tr th {\n",
       "        vertical-align: top;\n",
       "    }\n",
       "\n",
       "    .dataframe thead th {\n",
       "        text-align: right;\n",
       "    }\n",
       "</style>\n",
       "<table border=\"1\" class=\"dataframe\">\n",
       "  <thead>\n",
       "    <tr style=\"text-align: right;\">\n",
       "      <th></th>\n",
       "      <th>id</th>\n",
       "      <th>title</th>\n",
       "      <th>collection</th>\n",
       "      <th>filetype</th>\n",
       "      <th>date</th>\n",
       "    </tr>\n",
       "  </thead>\n",
       "  <tbody>\n",
       "    <tr>\n",
       "      <th>0</th>\n",
       "      <td>11650</td>\n",
       "      <td>(China), view of town with market at left</td>\n",
       "      <td>agsphoto</td>\n",
       "      <td>jp2</td>\n",
       "      <td>1932</td>\n",
       "    </tr>\n",
       "    <tr>\n",
       "      <th>1</th>\n",
       "      <td>14254</td>\n",
       "      <td>(Philippines), stream and mountains near Nueva...</td>\n",
       "      <td>agsphoto</td>\n",
       "      <td>jp2</td>\n",
       "      <td>1935</td>\n",
       "    </tr>\n",
       "    <tr>\n",
       "      <th>2</th>\n",
       "      <td>9751</td>\n",
       "      <td>(Thailand), railway connecting Changwats Chump...</td>\n",
       "      <td>agsphoto</td>\n",
       "      <td>jp2</td>\n",
       "      <td>1936-10-26</td>\n",
       "    </tr>\n",
       "    <tr>\n",
       "      <th>3</th>\n",
       "      <td>11504</td>\n",
       "      <td>[Uncertain], Long long trail</td>\n",
       "      <td>ags_south</td>\n",
       "      <td>jp2</td>\n",
       "      <td>1950</td>\n",
       "    </tr>\n",
       "    <tr>\n",
       "      <th>4</th>\n",
       "      <td>11529</td>\n",
       "      <td>[Uncertain], Man and his horse by eternal snow</td>\n",
       "      <td>ags_south</td>\n",
       "      <td>jp2</td>\n",
       "      <td>1950</td>\n",
       "    </tr>\n",
       "  </tbody>\n",
       "</table>\n",
       "</div>"
      ],
      "text/plain": [
       "      id                                              title collection  \\\n",
       "0  11650          (China), view of town with market at left   agsphoto   \n",
       "1  14254  (Philippines), stream and mountains near Nueva...   agsphoto   \n",
       "2   9751  (Thailand), railway connecting Changwats Chump...   agsphoto   \n",
       "3  11504                       [Uncertain], Long long trail  ags_south   \n",
       "4  11529     [Uncertain], Man and his horse by eternal snow  ags_south   \n",
       "\n",
       "  filetype        date  \n",
       "0      jp2        1932  \n",
       "1      jp2        1935  \n",
       "2      jp2  1936-10-26  \n",
       "3      jp2        1950  \n",
       "4      jp2        1950  "
      ]
     },
     "execution_count": 24,
     "metadata": {},
     "output_type": "execute_result"
    }
   ],
   "source": [
    "df = pd.read_csv('all_images.csv')\n",
    "df.head()"
   ]
  },
  {
   "cell_type": "code",
   "execution_count": 25,
   "metadata": {},
   "outputs": [],
   "source": [
    "df.date = df.date.apply(lambda x: extract_years(str(x)))"
   ]
  },
  {
   "cell_type": "code",
   "execution_count": 26,
   "metadata": {},
   "outputs": [
    {
     "data": {
      "text/html": [
       "<div>\n",
       "<style scoped>\n",
       "    .dataframe tbody tr th:only-of-type {\n",
       "        vertical-align: middle;\n",
       "    }\n",
       "\n",
       "    .dataframe tbody tr th {\n",
       "        vertical-align: top;\n",
       "    }\n",
       "\n",
       "    .dataframe thead th {\n",
       "        text-align: right;\n",
       "    }\n",
       "</style>\n",
       "<table border=\"1\" class=\"dataframe\">\n",
       "  <thead>\n",
       "    <tr style=\"text-align: right;\">\n",
       "      <th></th>\n",
       "      <th>id</th>\n",
       "      <th>title</th>\n",
       "      <th>collection</th>\n",
       "      <th>filetype</th>\n",
       "      <th>date</th>\n",
       "    </tr>\n",
       "  </thead>\n",
       "  <tbody>\n",
       "    <tr>\n",
       "      <th>0</th>\n",
       "      <td>11650</td>\n",
       "      <td>(China), view of town with market at left</td>\n",
       "      <td>agsphoto</td>\n",
       "      <td>jp2</td>\n",
       "      <td>1932</td>\n",
       "    </tr>\n",
       "    <tr>\n",
       "      <th>1</th>\n",
       "      <td>14254</td>\n",
       "      <td>(Philippines), stream and mountains near Nueva...</td>\n",
       "      <td>agsphoto</td>\n",
       "      <td>jp2</td>\n",
       "      <td>1935</td>\n",
       "    </tr>\n",
       "    <tr>\n",
       "      <th>2</th>\n",
       "      <td>9751</td>\n",
       "      <td>(Thailand), railway connecting Changwats Chump...</td>\n",
       "      <td>agsphoto</td>\n",
       "      <td>jp2</td>\n",
       "      <td>1936</td>\n",
       "    </tr>\n",
       "    <tr>\n",
       "      <th>3</th>\n",
       "      <td>11504</td>\n",
       "      <td>[Uncertain], Long long trail</td>\n",
       "      <td>ags_south</td>\n",
       "      <td>jp2</td>\n",
       "      <td>1950</td>\n",
       "    </tr>\n",
       "    <tr>\n",
       "      <th>4</th>\n",
       "      <td>11529</td>\n",
       "      <td>[Uncertain], Man and his horse by eternal snow</td>\n",
       "      <td>ags_south</td>\n",
       "      <td>jp2</td>\n",
       "      <td>1950</td>\n",
       "    </tr>\n",
       "  </tbody>\n",
       "</table>\n",
       "</div>"
      ],
      "text/plain": [
       "      id                                              title collection  \\\n",
       "0  11650          (China), view of town with market at left   agsphoto   \n",
       "1  14254  (Philippines), stream and mountains near Nueva...   agsphoto   \n",
       "2   9751  (Thailand), railway connecting Changwats Chump...   agsphoto   \n",
       "3  11504                       [Uncertain], Long long trail  ags_south   \n",
       "4  11529     [Uncertain], Man and his horse by eternal snow  ags_south   \n",
       "\n",
       "  filetype  date  \n",
       "0      jp2  1932  \n",
       "1      jp2  1935  \n",
       "2      jp2  1936  \n",
       "3      jp2  1950  \n",
       "4      jp2  1950  "
      ]
     },
     "execution_count": 26,
     "metadata": {},
     "output_type": "execute_result"
    }
   ],
   "source": [
    "df.head()"
   ]
  },
  {
   "cell_type": "code",
   "execution_count": 27,
   "metadata": {},
   "outputs": [
    {
     "data": {
      "text/plain": [
       "(0, 1999)"
      ]
     },
     "execution_count": 27,
     "metadata": {},
     "output_type": "execute_result"
    }
   ],
   "source": [
    "df.date.min(), df.date.max()"
   ]
  },
  {
   "cell_type": "code",
   "execution_count": 28,
   "metadata": {},
   "outputs": [
    {
     "data": {
      "text/html": [
       "<div>\n",
       "<style scoped>\n",
       "    .dataframe tbody tr th:only-of-type {\n",
       "        vertical-align: middle;\n",
       "    }\n",
       "\n",
       "    .dataframe tbody tr th {\n",
       "        vertical-align: top;\n",
       "    }\n",
       "\n",
       "    .dataframe thead th {\n",
       "        text-align: right;\n",
       "    }\n",
       "</style>\n",
       "<table border=\"1\" class=\"dataframe\">\n",
       "  <thead>\n",
       "    <tr style=\"text-align: right;\">\n",
       "      <th></th>\n",
       "      <th>id</th>\n",
       "      <th>collection</th>\n",
       "      <th>path</th>\n",
       "      <th>exists</th>\n",
       "    </tr>\n",
       "  </thead>\n",
       "  <tbody>\n",
       "    <tr>\n",
       "      <th>0</th>\n",
       "      <td>11650</td>\n",
       "      <td>agsphoto</td>\n",
       "      <td>agsphoto_11650.jp2</td>\n",
       "      <td>True</td>\n",
       "    </tr>\n",
       "    <tr>\n",
       "      <th>1</th>\n",
       "      <td>14254</td>\n",
       "      <td>agsphoto</td>\n",
       "      <td>agsphoto_14254.jp2</td>\n",
       "      <td>True</td>\n",
       "    </tr>\n",
       "    <tr>\n",
       "      <th>2</th>\n",
       "      <td>9751</td>\n",
       "      <td>agsphoto</td>\n",
       "      <td>agsphoto_9751.jp2</td>\n",
       "      <td>True</td>\n",
       "    </tr>\n",
       "    <tr>\n",
       "      <th>3</th>\n",
       "      <td>11504</td>\n",
       "      <td>ags_south</td>\n",
       "      <td>ags_south_11504.jp2</td>\n",
       "      <td>True</td>\n",
       "    </tr>\n",
       "    <tr>\n",
       "      <th>4</th>\n",
       "      <td>11529</td>\n",
       "      <td>ags_south</td>\n",
       "      <td>ags_south_11529.jp2</td>\n",
       "      <td>True</td>\n",
       "    </tr>\n",
       "  </tbody>\n",
       "</table>\n",
       "</div>"
      ],
      "text/plain": [
       "      id collection                 path  exists\n",
       "0  11650   agsphoto   agsphoto_11650.jp2    True\n",
       "1  14254   agsphoto   agsphoto_14254.jp2    True\n",
       "2   9751   agsphoto    agsphoto_9751.jp2    True\n",
       "3  11504  ags_south  ags_south_11504.jp2    True\n",
       "4  11529  ags_south  ags_south_11529.jp2    True"
      ]
     },
     "execution_count": 28,
     "metadata": {},
     "output_type": "execute_result"
    }
   ],
   "source": [
    "paths = dict(\n",
    "    id=[],\n",
    "    collection=[],\n",
    "    path=[],\n",
    "    exists=[],\n",
    ")\n",
    "\n",
    "for _, row in df.iterrows():\n",
    "    paths['id'].append(row.id)\n",
    "    paths['collection'].append(row.collection)\n",
    "    path = f'{row.collection}_{row.id}.{row.filetype}'\n",
    "    paths['path'].append(path)\n",
    "    paths['exists'].append(os.path.exists(f'images/{path}'))\n",
    "\n",
    "df_paths = pd.DataFrame(paths)\n",
    "df_paths.head()"
   ]
  },
  {
   "cell_type": "code",
   "execution_count": 29,
   "metadata": {},
   "outputs": [
    {
     "data": {
      "text/plain": [
       "exists\n",
       "False    107007\n",
       "True       4993\n",
       "Name: count, dtype: int64"
      ]
     },
     "execution_count": 29,
     "metadata": {},
     "output_type": "execute_result"
    }
   ],
   "source": [
    "df_paths.exists.value_counts()"
   ]
  },
  {
   "cell_type": "code",
   "execution_count": 30,
   "metadata": {},
   "outputs": [
    {
     "data": {
      "text/html": [
       "<div>\n",
       "<style scoped>\n",
       "    .dataframe tbody tr th:only-of-type {\n",
       "        vertical-align: middle;\n",
       "    }\n",
       "\n",
       "    .dataframe tbody tr th {\n",
       "        vertical-align: top;\n",
       "    }\n",
       "\n",
       "    .dataframe thead th {\n",
       "        text-align: right;\n",
       "    }\n",
       "</style>\n",
       "<table border=\"1\" class=\"dataframe\">\n",
       "  <thead>\n",
       "    <tr style=\"text-align: right;\">\n",
       "      <th></th>\n",
       "      <th>id</th>\n",
       "      <th>title</th>\n",
       "      <th>collection</th>\n",
       "      <th>filetype</th>\n",
       "      <th>date</th>\n",
       "      <th>path</th>\n",
       "      <th>exists</th>\n",
       "    </tr>\n",
       "  </thead>\n",
       "  <tbody>\n",
       "    <tr>\n",
       "      <th>0</th>\n",
       "      <td>11650</td>\n",
       "      <td>(China), view of town with market at left</td>\n",
       "      <td>agsphoto</td>\n",
       "      <td>jp2</td>\n",
       "      <td>1932</td>\n",
       "      <td>agsphoto_11650.jp2</td>\n",
       "      <td>True</td>\n",
       "    </tr>\n",
       "    <tr>\n",
       "      <th>1</th>\n",
       "      <td>14254</td>\n",
       "      <td>(Philippines), stream and mountains near Nueva...</td>\n",
       "      <td>agsphoto</td>\n",
       "      <td>jp2</td>\n",
       "      <td>1935</td>\n",
       "      <td>agsphoto_14254.jp2</td>\n",
       "      <td>True</td>\n",
       "    </tr>\n",
       "    <tr>\n",
       "      <th>2</th>\n",
       "      <td>9751</td>\n",
       "      <td>(Thailand), railway connecting Changwats Chump...</td>\n",
       "      <td>agsphoto</td>\n",
       "      <td>jp2</td>\n",
       "      <td>1936</td>\n",
       "      <td>agsphoto_9751.jp2</td>\n",
       "      <td>True</td>\n",
       "    </tr>\n",
       "    <tr>\n",
       "      <th>3</th>\n",
       "      <td>11504</td>\n",
       "      <td>[Uncertain], Long long trail</td>\n",
       "      <td>ags_south</td>\n",
       "      <td>jp2</td>\n",
       "      <td>1950</td>\n",
       "      <td>ags_south_11504.jp2</td>\n",
       "      <td>True</td>\n",
       "    </tr>\n",
       "    <tr>\n",
       "      <th>4</th>\n",
       "      <td>11529</td>\n",
       "      <td>[Uncertain], Man and his horse by eternal snow</td>\n",
       "      <td>ags_south</td>\n",
       "      <td>jp2</td>\n",
       "      <td>1950</td>\n",
       "      <td>ags_south_11529.jp2</td>\n",
       "      <td>True</td>\n",
       "    </tr>\n",
       "  </tbody>\n",
       "</table>\n",
       "</div>"
      ],
      "text/plain": [
       "      id                                              title collection  \\\n",
       "0  11650          (China), view of town with market at left   agsphoto   \n",
       "1  14254  (Philippines), stream and mountains near Nueva...   agsphoto   \n",
       "2   9751  (Thailand), railway connecting Changwats Chump...   agsphoto   \n",
       "3  11504                       [Uncertain], Long long trail  ags_south   \n",
       "4  11529     [Uncertain], Man and his horse by eternal snow  ags_south   \n",
       "\n",
       "  filetype  date                 path  exists  \n",
       "0      jp2  1932   agsphoto_11650.jp2    True  \n",
       "1      jp2  1935   agsphoto_14254.jp2    True  \n",
       "2      jp2  1936    agsphoto_9751.jp2    True  \n",
       "3      jp2  1950  ags_south_11504.jp2    True  \n",
       "4      jp2  1950  ags_south_11529.jp2    True  "
      ]
     },
     "execution_count": 30,
     "metadata": {},
     "output_type": "execute_result"
    }
   ],
   "source": [
    "df = pd.merge(df, df_paths, on=['id', 'collection'])\n",
    "df.head()"
   ]
  },
  {
   "cell_type": "code",
   "execution_count": 31,
   "metadata": {},
   "outputs": [
    {
     "data": {
      "text/plain": [
       "date\n",
       "0       462\n",
       "1897      1\n",
       "1904      5\n",
       "1906      1\n",
       "1907      9\n",
       "       ... \n",
       "1973    325\n",
       "1974      1\n",
       "1975     68\n",
       "1987     21\n",
       "1988     20\n",
       "Name: count, Length: 63, dtype: int64"
      ]
     },
     "execution_count": 31,
     "metadata": {},
     "output_type": "execute_result"
    }
   ],
   "source": [
    "df_date_value_counts = df[df['exists']].date.value_counts().sort_index(ascending=True)\n",
    "df_date_value_counts"
   ]
  },
  {
   "cell_type": "code",
   "execution_count": 32,
   "metadata": {},
   "outputs": [
    {
     "data": {
      "image/png": "[encoded data removed]",
      "text/plain": [
       "<Figure size 1500x500 with 1 Axes>"
      ]
     },
     "metadata": {},
     "output_type": "display_data"
    }
   ],
   "source": [
    "import seaborn as sns\n",
    "import matplotlib.pyplot as plt\n",
    "\n",
    "value_counts_df = df_date_value_counts.reset_index()\n",
    "value_counts_df.columns = ['year', 'count']\n",
    "\n",
    "plt.figure(figsize=(15, 5))\n",
    "sns.barplot(x='year', y='count', data=value_counts_df, order=value_counts_df['year'])\n",
    "plt.title('Images by year')\n",
    "plt.xlabel('year')\n",
    "plt.ylabel('count')\n",
    "plt.xticks(rotation=90)\n",
    "\n",
    "plt.show()\n"
   ]
  },
  {
   "cell_type": "code",
   "execution_count": 33,
   "metadata": {},
   "outputs": [],
   "source": [
    "df.to_csv('all_images_improved.csv', index=False)"
   ]
  }
 ],
 "metadata": {
  "kernelspec": {
   "display_name": "audio-dataloader",
   "language": "python",
   "name": "python3"
  },
  "language_info": {
   "codemirror_mode": {
    "name": "ipython",
    "version": 3
   },
   "file_extension": ".py",
   "mimetype": "text/x-python",
   "name": "python",
   "nbconvert_exporter": "python",
   "pygments_lexer": "ipython3",
   "version": "3.10.14"
  }
 },
 "nbformat": 4,
 "nbformat_minor": 2
}
